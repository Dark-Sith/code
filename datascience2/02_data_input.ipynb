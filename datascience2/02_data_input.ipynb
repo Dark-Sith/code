{
 "cells": [
  {
   "cell_type": "markdown",
   "metadata": {},
   "source": [
    "# 第2回：データの読み込み・確認"
   ]
  },
  {
   "cell_type": "markdown",
   "metadata": {},
   "source": [
    "* データサイエンスを進める上では、データ分析に適したプログラム言語を使用して分析を進めることが多いです。\n",
    "* 本演習では、Pythonと呼ばれるプログラム言語を用いてデータ分析を進めていきます。  \n",
    "今回はデータ（CSVファイル）を読み込み、表示するまでの準備フェーズを行います。"
   ]
  },
  {
   "cell_type": "markdown",
   "metadata": {},
   "source": [
    "# 1. プログラム実行環境について\n",
    "* 今回の演習では、「Jupyter Notebook」と呼ばれる環境で分析を進めます。\n",
    "* Jupyter Notebookでは、「セル」と呼ばれる枠内にプログラムを記述しながら分析を進めていきます。  \n",
    "該当のセルを選択した状態で「Shift」+「Enter」を押すことでプログラムを実行できます。"
   ]
  },
  {
   "cell_type": "markdown",
   "metadata": {},
   "source": [
    "### Jupyter Notebook操作の練習\n",
    "* 実際にJupyter Notebookでプログラムを実行してみましょう。\n",
    "* 下のセルに記載してあるプログラムを実行すると、セル左側の [　] に数字が入り、セルの下に\"正しく実行できています！\"と表示されます。\n",
    "* 下のセルを選択した状態で、「Shift」+「Enter」を押してみましょう。"
   ]
  },
  {
   "cell_type": "code",
   "execution_count": 1,
   "metadata": {},
   "outputs": [
    {
     "name": "stdout",
     "output_type": "stream",
     "text": [
      "正しく実行できています！\n"
     ]
    }
   ],
   "source": [
    "print(\"正しく実行できています！\")"
   ]
  },
  {
   "cell_type": "markdown",
   "metadata": {},
   "source": [
    "# 2. データ読み込みを実行\n",
    "* 簡単に操作方法がわかったところで、実際にデータを読み込んでみましょう。\n",
    "* 実行するプログラムは記述されているので、先ほどと同様に実行していきましょう。\n",
    "* 正しく実行できると、先ほどと同様にセル左側の [　] に数字が入ります。数字は実行した順番を表します。\n",
    "* また実行時間が長時間に渡る場合は実行中にカッコ内に\\*マークが入ります\n",
    "（記述しているプログラムによっては、セルの下に何も出てこないこともあります。）"
   ]
  },
  {
   "cell_type": "code",
   "execution_count": 2,
   "metadata": {},
   "outputs": [],
   "source": [
    "# ライブラリ（様々な機能を簡単に使えるもの）のインポート\n",
    "# このセルは、実行してもセルの下になにも表示されません\n",
    "\n",
    "import pandas as pd   # pandasは表形式のデータ操作ライブラリ"
   ]
  },
  {
   "cell_type": "markdown",
   "metadata": {},
   "source": [
    "## 2-1. CSVファイルの読み込み\n",
    "* pd.read_csvという文でCSVファイルを読み込めます。"
   ]
  },
  {
   "cell_type": "code",
   "execution_count": 4,
   "metadata": {},
   "outputs": [],
   "source": [
    "data = pd.read_csv(\"bank-full.csv\") # csvファイルを読み込み、dataという名前で保管"
   ]
  },
  {
   "cell_type": "markdown",
   "metadata": {},
   "source": [
    "## 2-2. 読み込んだデータの行数、列数と、データの一部を表示して確認\n",
    "* 実際に正しくデータを読み込めたのか確認していきましょう。\n",
    "* 次のセルではデータの行数、列数を表示してみます。また、実際にデータの先頭5行を表示してみましょう。"
   ]
  },
  {
   "cell_type": "code",
   "execution_count": 5,
   "metadata": {},
   "outputs": [
    {
     "name": "stdout",
     "output_type": "stream",
     "text": [
      "（行数, 列数）： (45211, 17)\n"
     ]
    },
    {
     "data": {
      "text/html": [
       "<div>\n",
       "<style scoped>\n",
       "    .dataframe tbody tr th:only-of-type {\n",
       "        vertical-align: middle;\n",
       "    }\n",
       "\n",
       "    .dataframe tbody tr th {\n",
       "        vertical-align: top;\n",
       "    }\n",
       "\n",
       "    .dataframe thead th {\n",
       "        text-align: right;\n",
       "    }\n",
       "</style>\n",
       "<table border=\"1\" class=\"dataframe\">\n",
       "  <thead>\n",
       "    <tr style=\"text-align: right;\">\n",
       "      <th></th>\n",
       "      <th>age</th>\n",
       "      <th>job</th>\n",
       "      <th>marital</th>\n",
       "      <th>education</th>\n",
       "      <th>default</th>\n",
       "      <th>balance</th>\n",
       "      <th>housing</th>\n",
       "      <th>loan</th>\n",
       "      <th>contact</th>\n",
       "      <th>day</th>\n",
       "      <th>month</th>\n",
       "      <th>duration</th>\n",
       "      <th>campaign</th>\n",
       "      <th>pdays</th>\n",
       "      <th>previous</th>\n",
       "      <th>poutcome</th>\n",
       "      <th>y</th>\n",
       "    </tr>\n",
       "  </thead>\n",
       "  <tbody>\n",
       "    <tr>\n",
       "      <th>0</th>\n",
       "      <td>58</td>\n",
       "      <td>management</td>\n",
       "      <td>married</td>\n",
       "      <td>tertiary</td>\n",
       "      <td>no</td>\n",
       "      <td>2143</td>\n",
       "      <td>yes</td>\n",
       "      <td>no</td>\n",
       "      <td>unknown</td>\n",
       "      <td>5</td>\n",
       "      <td>may</td>\n",
       "      <td>261</td>\n",
       "      <td>1</td>\n",
       "      <td>-1</td>\n",
       "      <td>0</td>\n",
       "      <td>unknown</td>\n",
       "      <td>no</td>\n",
       "    </tr>\n",
       "    <tr>\n",
       "      <th>1</th>\n",
       "      <td>44</td>\n",
       "      <td>technician</td>\n",
       "      <td>single</td>\n",
       "      <td>secondary</td>\n",
       "      <td>no</td>\n",
       "      <td>29</td>\n",
       "      <td>yes</td>\n",
       "      <td>no</td>\n",
       "      <td>unknown</td>\n",
       "      <td>5</td>\n",
       "      <td>may</td>\n",
       "      <td>151</td>\n",
       "      <td>1</td>\n",
       "      <td>-1</td>\n",
       "      <td>0</td>\n",
       "      <td>unknown</td>\n",
       "      <td>no</td>\n",
       "    </tr>\n",
       "    <tr>\n",
       "      <th>2</th>\n",
       "      <td>33</td>\n",
       "      <td>entrepreneur</td>\n",
       "      <td>married</td>\n",
       "      <td>secondary</td>\n",
       "      <td>no</td>\n",
       "      <td>2</td>\n",
       "      <td>yes</td>\n",
       "      <td>yes</td>\n",
       "      <td>unknown</td>\n",
       "      <td>5</td>\n",
       "      <td>may</td>\n",
       "      <td>76</td>\n",
       "      <td>1</td>\n",
       "      <td>-1</td>\n",
       "      <td>0</td>\n",
       "      <td>unknown</td>\n",
       "      <td>no</td>\n",
       "    </tr>\n",
       "    <tr>\n",
       "      <th>3</th>\n",
       "      <td>47</td>\n",
       "      <td>blue-collar</td>\n",
       "      <td>married</td>\n",
       "      <td>unknown</td>\n",
       "      <td>no</td>\n",
       "      <td>1506</td>\n",
       "      <td>yes</td>\n",
       "      <td>no</td>\n",
       "      <td>unknown</td>\n",
       "      <td>5</td>\n",
       "      <td>may</td>\n",
       "      <td>92</td>\n",
       "      <td>1</td>\n",
       "      <td>-1</td>\n",
       "      <td>0</td>\n",
       "      <td>unknown</td>\n",
       "      <td>no</td>\n",
       "    </tr>\n",
       "    <tr>\n",
       "      <th>4</th>\n",
       "      <td>33</td>\n",
       "      <td>unknown</td>\n",
       "      <td>single</td>\n",
       "      <td>unknown</td>\n",
       "      <td>no</td>\n",
       "      <td>1</td>\n",
       "      <td>no</td>\n",
       "      <td>no</td>\n",
       "      <td>unknown</td>\n",
       "      <td>5</td>\n",
       "      <td>may</td>\n",
       "      <td>198</td>\n",
       "      <td>1</td>\n",
       "      <td>-1</td>\n",
       "      <td>0</td>\n",
       "      <td>unknown</td>\n",
       "      <td>no</td>\n",
       "    </tr>\n",
       "  </tbody>\n",
       "</table>\n",
       "</div>"
      ],
      "text/plain": [
       "   age           job  marital  education default  balance housing loan  \\\n",
       "0   58    management  married   tertiary      no     2143     yes   no   \n",
       "1   44    technician   single  secondary      no       29     yes   no   \n",
       "2   33  entrepreneur  married  secondary      no        2     yes  yes   \n",
       "3   47   blue-collar  married    unknown      no     1506     yes   no   \n",
       "4   33       unknown   single    unknown      no        1      no   no   \n",
       "\n",
       "   contact  day month  duration  campaign  pdays  previous poutcome   y  \n",
       "0  unknown    5   may       261         1     -1         0  unknown  no  \n",
       "1  unknown    5   may       151         1     -1         0  unknown  no  \n",
       "2  unknown    5   may        76         1     -1         0  unknown  no  \n",
       "3  unknown    5   may        92         1     -1         0  unknown  no  \n",
       "4  unknown    5   may       198         1     -1         0  unknown  no  "
      ]
     },
     "metadata": {},
     "output_type": "display_data"
    }
   ],
   "source": [
    "print('（行数, 列数）：', data.shape) # data.shapeでデータの行数と列数を確認\n",
    "display(data.head())                  # .head()で先頭5行のみを表示"
   ]
  },
  {
   "cell_type": "markdown",
   "metadata": {},
   "source": [
    "### データの説明\n",
    "ここで、各列がどのようなデータなのかを簡単に説明します。"
   ]
  },
  {
   "cell_type": "markdown",
   "metadata": {},
   "source": [
    "* age・・・年齢（数値）  \n",
    "* job・・・職種（カテゴリ：12種類）  \n",
    "* marital・・・結婚しているか（カテゴリ：既婚、離婚、単身の3種類）  \n",
    "* education・・・教育水準（カテゴリ：初等教育、中等教育、高等教育、不明の4種類）  \n",
    "* default・・・クレジットカードの債務不履行有無（カテゴリ：2種類）\n",
    "* balance・・・年間の平均残高（ユーロ）（数値）\n",
    "* housing・・・住宅ローンの有無（カテゴリ：2種類）\n",
    "* loan・・・個人ローンの有無（カテゴリ：2種類）\n",
    "* contact・・・連絡先（カテゴリ：不明、電話、携帯電話の3種類）\n",
    "* day・・・最後に連絡した日（数値）\n",
    "* month・・・最後に連絡した月（カテゴリ：12種類）\n",
    "* duration・・・最後に連絡した際の通話時間（秒）\n",
    "* campaign・・・今回のキャンペーン期間中に顧客に連絡した回数（数値）\n",
    "* pdays・・・前回のキャンペーン以降に最後に連絡した日からの経過日数（数値：-1は以前の接触がない状態）\n",
    "* previous・・・今回のキャンペーンの前までに顧客へ連絡した回数（数値）\n",
    "* poutcome・・・前回のキャンペーンの結果（カテゴリ：不明、その他、失敗、成功の4種類）\n",
    "* y・・・定期預金の購読有無（カテゴリ：2種類）（**予測対象列**）"
   ]
  },
  {
   "cell_type": "markdown",
   "metadata": {},
   "source": [
    "# 3. 読み込んだデータをグラフ化\n",
    "* データ読み込みができたので、試しにグラフを描いてみましょう。\n",
    "* 今回は、'age'列（年齢データが入っている列）のヒストグラムを描いてみます。\n",
    "* まず年齢データが入っている列の抽出方法を確認し、その後ヒストグラムを描画してみます。"
   ]
  },
  {
   "cell_type": "markdown",
   "metadata": {},
   "source": [
    "## 3-1. 年齢データ列 ( 'age' ) の抽出方法を確認"
   ]
  },
  {
   "cell_type": "code",
   "execution_count": 6,
   "metadata": {},
   "outputs": [
    {
     "data": {
      "text/plain": [
       "0    58\n",
       "1    44\n",
       "2    33\n",
       "3    47\n",
       "4    33\n",
       "Name: age, dtype: int64"
      ]
     },
     "execution_count": 6,
     "metadata": {},
     "output_type": "execute_result"
    }
   ],
   "source": [
    "data['age'].head() # data['列名']で、読み込んだデータの特定の列を抽出"
   ]
  },
  {
   "cell_type": "markdown",
   "metadata": {},
   "source": [
    "## 3-2. 年齢のヒストグラムを描画\n",
    "* 年齢データの抽出方法が確認できたので、ヒストグラムを描いてみましょう。"
   ]
  },
  {
   "cell_type": "code",
   "execution_count": 8,
   "metadata": {
    "scrolled": true
   },
   "outputs": [
    {
     "data": {
      "text/plain": [
       "<AxesSubplot:>"
      ]
     },
     "execution_count": 8,
     "metadata": {},
     "output_type": "execute_result"
    },
    {
     "data": {
      "image/png": "[encoded data removed]",
      "text/plain": [
       "<Figure size 432x288 with 1 Axes>"
      ]
     },
     "metadata": {
      "needs_background": "light"
     },
     "output_type": "display_data"
    }
   ],
   "source": [
    "data['age'].hist()  # .hist()でヒストグラムを表示する"
   ]
  },
  {
   "cell_type": "markdown",
   "metadata": {},
   "source": [
    "* 実際にグラフを描けることが確認できました。\n",
    "* 次回以降は、より詳しくデータ集計やグラフ化を進めていきます"
   ]
  },
  {
   "cell_type": "code",
   "execution_count": null,
   "metadata": {},
   "outputs": [],
   "source": []
  },
  {
   "cell_type": "code",
   "execution_count": null,
   "metadata": {},
   "outputs": [],
   "source": []
  }
 ],
 "metadata": {
  "kernelspec": {
   "display_name": "Python 3",
   "language": "python",
   "name": "python3"
  },
  "language_info": {
   "codemirror_mode": {
    "name": "ipython",
    "version": 3
   },
   "file_extension": ".py",
   "mimetype": "text/x-python",
   "name": "python",
   "nbconvert_exporter": "python",
   "pygments_lexer": "ipython3",
   "version": "3.8.5"
  }
 },
 "nbformat": 4,
 "nbformat_minor": 2
}
