{
 "cells": [
  {
   "cell_type": "markdown",
   "metadata": {},
   "source": [
    "# 第3回：データ集計・可視化\n",
    "* データ分析を進める上では、対象のデータの特徴を把握することが重要です。\n",
    "* データサイエンス総論Ⅱの最終的な分析では、顧客が定期預金するかの予測を行いますが、より有効な分析のためにもデータを理解することは重要です。\n",
    "* ここではデータ理解の方法として、グラフ化による直感的な理解方法と、平均値や最大値、最小値などの定量的な集計方法について説明します。"
   ]
  },
  {
   "cell_type": "markdown",
   "metadata": {},
   "source": [
    "# 1. データ読み込み"
   ]
  },
  {
   "cell_type": "markdown",
   "metadata": {},
   "source": [
    "* 前回同様に、実行したいセルを選択して「Shift」+「Enter」でプログラムを実行できます。"
   ]
  },
  {
   "cell_type": "code",
   "execution_count": null,
   "metadata": {},
   "outputs": [],
   "source": [
    "# ライブラリ（様々な機能を簡単に使えるもの）のインポート\n",
    "# このセルは、実行してもセルの下になにも表示されません\n",
    "import pandas as pd             # pandasは表形式のデータ操作ライブラリ\n",
    "import matplotlib.pyplot as plt # matplotlibはグラフ描画ライブラリ\n",
    "import seaborn as sns           # seabornもグラフ描画ライブラリ（matplotlibより高度なグラフを描画可能）"
   ]
  },
  {
   "cell_type": "code",
   "execution_count": null,
   "metadata": {},
   "outputs": [],
   "source": [
    "data = pd.read_csv(\"bank-full.csv\")  # csvファイルを読み込み、dataという名前で保管"
   ]
  },
  {
   "cell_type": "code",
   "execution_count": null,
   "metadata": {},
   "outputs": [],
   "source": [
    "data.head() # 読み込んだデータを確認"
   ]
  },
  {
   "cell_type": "markdown",
   "metadata": {},
   "source": [
    "# 2. データの可視化（１変数ごとの確認）\n",
    "* まずは、読み込んだデータをグラフで可視化して傾向を見てみましょう。"
   ]
  },
  {
   "cell_type": "markdown",
   "metadata": {},
   "source": [
    "### 各列の意味\n",
    "* age・・・年齢（数値）  \n",
    "* job・・・職種（カテゴリ：12種類）  \n",
    "* marital・・・結婚しているか（カテゴリ：既婚、離婚、単身の3種類）  \n",
    "* education・・・教育水準（カテゴリ：初等教育、中等教育、高等教育、不明の4種類）  \n",
    "* default・・・クレジットカードの債務不履行有無（カテゴリ：2種類）\n",
    "* balance・・・年間の平均残高（ユーロ）（数値）\n",
    "* housing・・・住宅ローンの有無（カテゴリ：2種類）\n",
    "* loan・・・個人ローンの有無（カテゴリ：2種類）\n",
    "* contact・・・連絡先（カテゴリ：不明、電話、携帯電話の3種類）\n",
    "* day・・・最後に連絡した日（数値）\n",
    "* month・・・最後に連絡した月（カテゴリ：12種類）\n",
    "* duration・・・最後に連絡した際の通話時間（秒）\n",
    "* campaign・・・今回のキャンペーン期間中に顧客に連絡した回数（数値）\n",
    "* pdays・・・前回のキャンペーン以降に最後に連絡した日からの経過日数（数値：-1は以前の接触がない状態）\n",
    "* previous・・・今回のキャンペーンの前までに顧客へ連絡した回数（数値）\n",
    "* poutcome・・・前回のキャンペーンの結果（カテゴリ：不明、その他、失敗、成功の4種類）\n",
    "* y・・・定期預金の購読有無（カテゴリ：2種類）（**予測対象列**）"
   ]
  },
  {
   "cell_type": "markdown",
   "metadata": {},
   "source": [
    "#### グラフをきれいに見せる設定"
   ]
  },
  {
   "cell_type": "code",
   "execution_count": null,
   "metadata": {},
   "outputs": [],
   "source": [
    "sns.set() # グラフのデザインをSeabornライブラリのデフォルトスタイルに変更\n",
    "sns.set_context('talk') # グラフの字の大きさを調整"
   ]
  },
  {
   "cell_type": "markdown",
   "metadata": {},
   "source": [
    "## 2-1. 目的変数の確認（棒グラフ）\n",
    "* データサイエンス総論Ⅱの演習では、顧客が定期預金をするかしないかを予測することが最終目標です。\n",
    "* まずは、予測対象となる顧客の定期預金有無（y列）の傾向を確認しましょう。\n",
    "* 棒グラフで、定期預金をした人としていない人がどのくらいの人数なのかを確認します。"
   ]
  },
  {
   "cell_type": "code",
   "execution_count": null,
   "metadata": {},
   "outputs": [],
   "source": [
    "sns.countplot(x='y', data=data)  # dataというデータの'y'列（「yes」と「no」が存在）のデータ件数棒グラフを作成"
   ]
  },
  {
   "cell_type": "markdown",
   "metadata": {},
   "source": [
    "* ほとんどのデータが\"no\"、つまり定期預金をしていないことがわかります。\n",
    "* このように、予測対象（目的変数）に偏りがある場合は、機械学習で予測モデルを作成する際に偏りを考慮する必要があることもあります。"
   ]
  },
  {
   "cell_type": "markdown",
   "metadata": {},
   "source": [
    "## 2-2. 数値変数の確認（ヒストグラム）\n",
    "* 続いて、ほかの列のデータも確認していきましょう。\n",
    "* ageなどの数値データの列の分布を確認するために、ヒストグラムを描画してみます。\n",
    "* ヒストグラムとは、横軸に階級（範囲）、縦軸に度数（該当の範囲にあるデータの個数）をグラフ化したものです。\n",
    "* 数値データがどこを中心にどのように値がバラついているのかを確認することができます。"
   ]
  },
  {
   "cell_type": "markdown",
   "metadata": {},
   "source": [
    "#### age（年齢）のヒストグラム"
   ]
  },
  {
   "cell_type": "code",
   "execution_count": null,
   "metadata": {},
   "outputs": [],
   "source": [
    "# sns. でseabornの機能を呼び出し\n",
    "# distplotでヒストグラムを描画\n",
    "# data['age']で年齢列を抽出し、distplotでヒストグラムを描画\n",
    "sns.distplot(data['age'], kde=False, bins=10, hist_kws = {'alpha': 1}) "
   ]
  },
  {
   "cell_type": "markdown",
   "metadata": {},
   "source": [
    "* 30代～40代が最も多いことがわかります。"
   ]
  },
  {
   "cell_type": "markdown",
   "metadata": {},
   "source": [
    "#### balance（平均残高）のヒストグラム"
   ]
  },
  {
   "cell_type": "code",
   "execution_count": null,
   "metadata": {},
   "outputs": [],
   "source": [
    "sns.distplot(data['balance'], kde=False, bins=30, hist_kws = {'alpha': 1}) "
   ]
  },
  {
   "cell_type": "markdown",
   "metadata": {},
   "source": [
    "* ほとんどのデータが0～3000に分布し、ごく一部のデータが大きな値をとっていることがわかります。"
   ]
  },
  {
   "cell_type": "markdown",
   "metadata": {},
   "source": [
    "#### day（日付）のヒストグラム"
   ]
  },
  {
   "cell_type": "code",
   "execution_count": null,
   "metadata": {},
   "outputs": [],
   "source": [
    "sns.distplot(data['day'], kde=False,  bins=31, hist_kws = {'alpha': 1}) "
   ]
  },
  {
   "cell_type": "markdown",
   "metadata": {},
   "source": [
    "* 10日、20日付近のみ件数が少ないことがわかります。"
   ]
  },
  {
   "cell_type": "markdown",
   "metadata": {},
   "source": [
    "#### duration（通話時間）のヒストグラム"
   ]
  },
  {
   "cell_type": "code",
   "execution_count": null,
   "metadata": {},
   "outputs": [],
   "source": [
    "sns.distplot(data['duration'], kde=False, rug=False, bins=25, hist_kws = {'alpha': 1}) "
   ]
  },
  {
   "cell_type": "markdown",
   "metadata": {},
   "source": [
    "* 半分程度が200秒（3分強）以内で通話終了してることがわかります。"
   ]
  },
  {
   "cell_type": "markdown",
   "metadata": {},
   "source": [
    "#### campaign（キャンペーン期間中の連絡回数）のヒストグラム"
   ]
  },
  {
   "cell_type": "code",
   "execution_count": null,
   "metadata": {},
   "outputs": [],
   "source": [
    "sns.distplot(data['campaign'], kde=False, rug=False, bins=20, hist_kws = {'alpha': 1}) "
   ]
  },
  {
   "cell_type": "markdown",
   "metadata": {},
   "source": [
    "* 0付近のデータがほとんどであることがわかります。"
   ]
  },
  {
   "cell_type": "markdown",
   "metadata": {},
   "source": [
    "#### pdays（最後に連絡した日からの日数）のヒストグラム"
   ]
  },
  {
   "cell_type": "code",
   "execution_count": null,
   "metadata": {},
   "outputs": [],
   "source": [
    "sns.distplot(data['pdays'], kde=False, rug=False, bins=30, hist_kws = {'alpha': 1}) "
   ]
  },
  {
   "cell_type": "markdown",
   "metadata": {},
   "source": [
    "* 0付近（正確には-1）のデータがほとんどであることがわかります。"
   ]
  },
  {
   "cell_type": "markdown",
   "metadata": {},
   "source": [
    "#### previous（顧客への連絡回数）のヒストグラム"
   ]
  },
  {
   "cell_type": "code",
   "execution_count": null,
   "metadata": {},
   "outputs": [],
   "source": [
    "sns.distplot(data['previous'], kde=False, rug=False, bins=30, hist_kws = {'alpha': 1}) "
   ]
  },
  {
   "cell_type": "markdown",
   "metadata": {},
   "source": [
    "* ほとんどのデータが0であることがわかります。"
   ]
  },
  {
   "cell_type": "markdown",
   "metadata": {},
   "source": [
    "## 2-3. 数値変数の確認（箱ひげ図）\n",
    "* 数値データ（age）について、箱ひげ図も描画してみましょう。"
   ]
  },
  {
   "cell_type": "code",
   "execution_count": null,
   "metadata": {},
   "outputs": [],
   "source": [
    "plt.figure(figsize=(2,4))\n",
    "sns.boxplot(y='age', data=data) # boxplotで箱ひげ図を描画"
   ]
  },
  {
   "cell_type": "code",
   "execution_count": null,
   "metadata": {},
   "outputs": [],
   "source": []
  },
  {
   "cell_type": "code",
   "execution_count": null,
   "metadata": {},
   "outputs": [],
   "source": []
  },
  {
   "cell_type": "markdown",
   "metadata": {},
   "source": [
    "## 2-4. 数値変数の統計値による確認<br>（個数、平均、標準偏差、最小値、25%, 50%, 75%パーセント点、最大値）"
   ]
  },
  {
   "cell_type": "markdown",
   "metadata": {},
   "source": [
    "* ここまではグラフで数値変数を見てきましたが、describe関数を使うことで統計量で確認することできます。"
   ]
  },
  {
   "cell_type": "code",
   "execution_count": null,
   "metadata": {},
   "outputs": [],
   "source": [
    "round(data.describe(), 1) # describeで一気に集計を実施、見やすくなるように round で四捨五入"
   ]
  },
  {
   "cell_type": "markdown",
   "metadata": {},
   "source": [
    "+ 上の行から順番に、個数、平均、標準偏差、最小値、25%, 50%, 75%パーセント点、最大値です。\n",
    "* 表を見ると、列にによって数値の範囲やバラつきが大きく異なることがわかります。\n",
    "* 特に、\"pdays\" と \"previous\" は75%まで同じデータであることから、ほとんどが同じ値で一部のデータのみ大きな値をとっていることがわかります。"
   ]
  },
  {
   "cell_type": "code",
   "execution_count": null,
   "metadata": {},
   "outputs": [],
   "source": []
  },
  {
   "cell_type": "markdown",
   "metadata": {},
   "source": [
    "## 2-5. カテゴリデータのグラフ化\n",
    "* カテゴリ変数について、どのようなカテゴリがありデータ数がどのくらいなのかを確認してみましょう。\n",
    "* 各列に対して毎回グラフ描画処理を記述すると手間がかかるので、ここでは各列についてグラフ描画処理を繰り返す処理（forループ文）を記述しています。"
   ]
  },
  {
   "cell_type": "code",
   "execution_count": null,
   "metadata": {
    "scrolled": false
   },
   "outputs": [],
   "source": [
    "# カテゴリ変数の列名を category_columns という名前で保存\n",
    "category_columns = ['job', 'marital', 'education', 'default', 'housing', 'loan', 'contact', 'month', 'poutcome']\n",
    "\n",
    "# カテゴリデータ列ごとに、for文でカテゴリ個数をグラフ化する処理を繰り返し\n",
    "for col in category_columns: \n",
    "    # カテゴリ数が多い場合は、横幅を広げてグラフ化\n",
    "    if data[col].nunique() >= 6: \n",
    "        plt.figure(figsize=(20,6)) # グラフを描くための設定\n",
    "    # カテゴリ数が少ない場合は通常のグラフサイズ\n",
    "    else:\n",
    "        plt.figure()\n",
    "    # countplotで各カテゴリのデータ数を棒グラフで表示\n",
    "    sns.countplot(x=col, data=data)"
   ]
  },
  {
   "cell_type": "code",
   "execution_count": null,
   "metadata": {},
   "outputs": [],
   "source": []
  },
  {
   "cell_type": "markdown",
   "metadata": {},
   "source": [
    "# 3. データの可視化（目的変数への影響確認）"
   ]
  },
  {
   "cell_type": "markdown",
   "metadata": {},
   "source": [
    "* １変数ごとの確認が終わったら次に各変数の目的変数への影響を確認していきます"
   ]
  },
  {
   "cell_type": "markdown",
   "metadata": {},
   "source": [
    "## 3-1. 数値変数の目的変数への影響確認（箱ひげ図）\n",
    "* 最終的な分析では、顧客が定期預金するかの予測を行います。\n",
    "* 予測に向けて、定期預金をするかしないか（y列が0なら預金しない、1なら預金する）によって各データの傾向に違いがあるのかを確認してみましょう。"
   ]
  },
  {
   "cell_type": "markdown",
   "metadata": {},
   "source": [
    "#### 先ほどヒストグラムで表示した6項目について、定期預金有無別に箱ひげ図を表示"
   ]
  },
  {
   "cell_type": "code",
   "execution_count": null,
   "metadata": {
    "scrolled": false
   },
   "outputs": [],
   "source": [
    "# グラフを表示する列名を num_columns という名前で保存\n",
    "num_columns = ['age', 'balance', 'day', 'campaign', 'pdays', 'previous', 'duration']\n",
    "\n",
    "# num_columns は6項目あるので、各項目についてグラフ描画\n",
    "# for で繰り返し処理を実行。num_columns の6項目でグラフ描画処理を繰り返し\n",
    "for col in num_columns:\n",
    "    plt.figure() # グラフを描くための設定\n",
    "    sns.boxplot(x='y', y=col, data=data) # boxplotで箱ひげ図を描画"
   ]
  },
  {
   "cell_type": "markdown",
   "metadata": {},
   "source": [
    "* 箱上部は上位25%点、箱中央の線は中央値、箱下部は下位25%点を表します。\n",
    "* durationが200秒（3分強）以下の場合は勧誘失敗に終わるケースが多いようです。今回は定期預金の勧誘なので短い場合は話を切られている場合が多いので当然と言えます。\n",
    "* pdaysは定期預金をする顧客（'yes'）の人としない顧客（'no'）で傾向に違いがありそうです。\n",
    "\n",
    "### 【ポイント】duration列は本来は事前に知りえない情報（リーク）\n",
    "* 予測のための説明変数（特徴量）に本来事前には知りえない情報が入っていると、予測モデル作成時には高い精度のモデルができても、いざ実運用しようとしたときにデータがない、ということが起こりえます。\n",
    "* 今回はduration（通話時間）は電話先のお客様の事情次第で変わる数値であり、通話前にはわからない情報です。\n",
    "* duration（通話時間）予測モデルを作成する前に説明変数から除外しておく必要があります（クレンジング時に実施します）"
   ]
  },
  {
   "cell_type": "code",
   "execution_count": null,
   "metadata": {},
   "outputs": [],
   "source": []
  },
  {
   "cell_type": "markdown",
   "metadata": {},
   "source": [
    "## 3-2. カテゴリ変数の目的変数への影響確認\n",
    "* 続いて、marital（結婚有無）などのカテゴリデータと目的変数の関係も可視化してみましょう。\n",
    "* カテゴリ変数は job, marital, education, default, housing, loan, contact, month, poutcome の9種類です。\n",
    "* たとえば、結婚有無別に定期預金数をグラフ化し、既婚者と未婚者では定期預金のしやすさに差があるのかを確認してみます。\n",
    "* 箱ひげ図の描画と同様に、一気にグラフ化してみましょう。\n",
    "* 各カテゴリごとに、全体を1としたときの定期預金をしたデータとしていないデータの割合を縦軸にしています。"
   ]
  },
  {
   "cell_type": "code",
   "execution_count": null,
   "metadata": {
    "scrolled": false
   },
   "outputs": [],
   "source": [
    "# categoty_columns に入っている列名に対して、それぞれグラフ描画処理を繰り返す\n",
    "for col in category_columns:\n",
    "    # カテゴリ別にグラフ化するためにデータを加工\n",
    "    count_data = (data.groupby(col)['y'] # 集計対象の列でグループ化\n",
    "                  .value_counts(normalize=True) # 割合算出\n",
    "                  .rename('percentage') \n",
    "                  .reset_index())\n",
    "    \n",
    "    sns.catplot(x='y', y='percentage', col=col, kind='bar', data=count_data) # catplotで棒グラフを描画"
   ]
  },
  {
   "cell_type": "markdown",
   "metadata": {},
   "source": [
    "* 上から2番目のmaritalに関するグラフをみると、結婚状況は定期預金のしやすさに影響しないように見えます。  \n",
    "ほかの多くのカテゴリ変数も、定期預金のしやすさに対する影響は少なそうです。\n",
    "* 一方、一番下のpoutcomeについてのグラフをみると、poutcomeが \"success\" の顧客は定期預金をしやすい傾向にあることがわかります。  \n",
    "また、グラフが小さく見えにくいですが、下から2番目のmonthに関するグラフも傾向の違いがありそうです。"
   ]
  },
  {
   "cell_type": "code",
   "execution_count": null,
   "metadata": {},
   "outputs": [],
   "source": []
  },
  {
   "cell_type": "code",
   "execution_count": null,
   "metadata": {},
   "outputs": [],
   "source": []
  }
 ],
 "metadata": {
  "kernelspec": {
   "display_name": "Python 3",
   "language": "python",
   "name": "python3"
  },
  "language_info": {
   "codemirror_mode": {
    "name": "ipython",
    "version": 3
   },
   "file_extension": ".py",
   "mimetype": "text/x-python",
   "name": "python",
   "nbconvert_exporter": "python",
   "pygments_lexer": "ipython3",
   "version": "3.8.3"
  }
 },
 "nbformat": 4,
 "nbformat_minor": 2
}
