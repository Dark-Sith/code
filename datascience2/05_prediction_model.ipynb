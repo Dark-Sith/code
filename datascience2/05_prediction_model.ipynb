{
 "cells": [
  {
   "cell_type": "markdown",
   "metadata": {},
   "source": [
    "# 第6回：予測モデル作成\n",
    "* 前回まででデータ理解やクレンジングができたので、いよいよ機械学習で予測モデルを作成していきましょう。\n",
    "* 機械学習のアルゴリズムは色々とありますが、データサイエンス総論Ⅱの演習では決定木、ランダムフォレストと呼ばれる手法を使います。\n",
    "* 今回は実際に予測モデルを作り、精度を評価してみましょう。"
   ]
  },
  {
   "cell_type": "markdown",
   "metadata": {},
   "source": [
    "# 1. データ読み込み\n",
    "* まずはデータを読み込みましょう。\n",
    "* 読み込む方法は前回までと同様ですが、今回は前回整形したデータ（data_clensing.csv）を読み込みます。"
   ]
  },
  {
   "cell_type": "code",
   "execution_count": null,
   "metadata": {},
   "outputs": [],
   "source": [
    "import pandas as pd             # 表形式のデータ操作ライブラリ\n",
    "import matplotlib.pyplot as plt # グラフ描画ライブラリ\n",
    "import seaborn as sns           # グラフ描画ライブラリ\n",
    "\n",
    "from sklearn.tree import DecisionTreeClassifier      # 決定木による分類のためのライブラリ\n",
    "from sklearn.ensemble import RandomForestClassifier  # ランダムフォレストによる分類のためのライブラリ\n",
    "\n",
    "from sklearn.metrics import roc_auc_score     # AUC値を算出するライブラリ\n",
    "from sklearn.metrics import roc_curve         # ROC曲線を描画するためのライブラリ\n",
    "from sklearn.metrics import accuracy_score    # 正解率を算出するライブラリ\n",
    "from sklearn.metrics import confusion_matrix  # 混同行列を作成するライブラリ\n",
    "\n",
    "random_state = 1 # 乱数固定\n",
    "sns.set() "
   ]
  },
  {
   "cell_type": "code",
   "execution_count": null,
   "metadata": {},
   "outputs": [],
   "source": [
    "# 警告（warning）を表示させない\n",
    "import warnings\n",
    "warnings.filterwarnings('ignore')"
   ]
  },
  {
   "cell_type": "code",
   "execution_count": null,
   "metadata": {},
   "outputs": [],
   "source": []
  },
  {
   "cell_type": "code",
   "execution_count": null,
   "metadata": {},
   "outputs": [],
   "source": [
    "# 前回の演習でクレンジング・特徴量作成済みのデータを読み込みます\n",
    "data = pd.read_csv('data_clensing.csv')"
   ]
  },
  {
   "cell_type": "code",
   "execution_count": null,
   "metadata": {},
   "outputs": [],
   "source": [
    "print('データのサイズ：', data.shape) # データサイズ確認\n",
    "display(data.head())                  # データが正しく読み込めたことを確認"
   ]
  },
  {
   "cell_type": "markdown",
   "metadata": {},
   "source": [
    "# 2. 各カテゴリ変数を数値に変換\n",
    "* 本講義では、予測のための機械学習にsklearnという機械学習用のライブラリを活用します。\n",
    "* sklearnで予測モデルを学習できるようにするためには、\"yes\"や\"no\"などの文字で表現されているデータを数値で表す必要があります。\n",
    "* 各カテゴリ変数について数値化していきましょう。"
   ]
  },
  {
   "cell_type": "markdown",
   "metadata": {},
   "source": [
    "## 2-1. 目的変数を数値に変換\n",
    "* •sklearnで予測モデルを学習できるように、目的変数（y列）を\"yes\"を1、\"no\"を0に変換して、1と0の数値で表すことにします。"
   ]
  },
  {
   "cell_type": "code",
   "execution_count": null,
   "metadata": {},
   "outputs": [],
   "source": [
    "data['y'] = data['y'].map( {'yes': 1, 'no': 0} ) # yesを1, noを0に変換"
   ]
  },
  {
   "cell_type": "code",
   "execution_count": null,
   "metadata": {},
   "outputs": [],
   "source": [
    "data['y'].head() # 変換後のデータを表示し、数値に変換できたかを確認"
   ]
  },
  {
   "cell_type": "code",
   "execution_count": null,
   "metadata": {},
   "outputs": [],
   "source": [
    "data['y'].value_counts()"
   ]
  },
  {
   "cell_type": "markdown",
   "metadata": {},
   "source": [
    "## 2-2. その他のカテゴリ変数を数値に変換\n",
    "* y, month以外のカテゴリ変数を一括で変換していきます。\n",
    "* ここでは、One-Hotエンコーディングを呼ばれる数値化手法を使います。\n",
    "* たとえばローンの有無を表すloan 列には\"yes\"と\"no\"の2種類ありますが、新たに loan_yes列とloan_no列を作成し、loanがyesのデータはloan_yesが1、loan_noが0になるように変換します。\n",
    "\n",
    "* 複雑な処理が必要になるように思えますが、pandasのget_dummiesという機能を使うことで簡単に変換できます。"
   ]
  },
  {
   "cell_type": "code",
   "execution_count": null,
   "metadata": {},
   "outputs": [],
   "source": [
    "# まずは変換対象のカテゴリ列をまとめて categorical_columns という名前で保存します\n",
    "categorical_columns =  ['job', 'marital', 'education', 'default', 'housing', 'loan', 'contact', 'poutcome']\n",
    "\n",
    "# get_dummies機能を使って、categorical_columns に保存した列を対象にOne-Hotエンコーディングを行います。\n",
    "data = pd.get_dummies(data, columns = categorical_columns)"
   ]
  },
  {
   "cell_type": "code",
   "execution_count": null,
   "metadata": {},
   "outputs": [],
   "source": [
    "data.head() # データを表示し、正しく変換できたことを確認"
   ]
  },
  {
   "cell_type": "markdown",
   "metadata": {},
   "source": [
    "* \"loan\"列を\"loan_no\"列と\"loan_yes\"列でOne-Hot表現できています。ほかのカテゴリ変数も正しく数値に変換できたことが確認できました。"
   ]
  },
  {
   "cell_type": "markdown",
   "metadata": {},
   "source": [
    "## 2-3.データの保存\n",
    "* 機械学習に向けてのデータ数値化が完了したので、今後同じ処理をせずに済むようにCSVファイルとして保存しておきましょう。"
   ]
  },
  {
   "cell_type": "code",
   "execution_count": null,
   "metadata": {},
   "outputs": [],
   "source": [
    "data.to_csv('data_ml.csv', index=False)"
   ]
  },
  {
   "cell_type": "markdown",
   "metadata": {},
   "source": [
    "# 3. 予測モデルの作成\n",
    "* データの準備が終わったので、いよいよ予測モデルを作っていきましょう。\n",
    "* 今回は機械学習の手法（アルゴリズム）として**決定木**と呼ばれる手法と**ランダムフォレスト**と呼ばれる手法を使います。\n",
    "+ 決定木は、データから「顧客が40歳以上か40歳未満か」「住宅ローンがあるか無いか」のような傾向を発見することで、  \n",
    "「顧客が40代以上で住宅ローンがないと定期預金をする」というようなパターンに基づく予測ができるようになります。\n",
    "* ランダムフォレストは、決定木を多数作り予測結果の多数決をとることで精度向上を目指す手法です。\n",
    "* まずは、決定木で予測モデル作成の流れを体験しましょう。"
   ]
  },
  {
   "cell_type": "markdown",
   "metadata": {},
   "source": [
    "## 3-1. 学習・予測\n",
    "* データを説明変数と目的変数に分割し、予測モデル作成を行います。\n",
    "* 説明変数をX_train, 目的変数をy_trainとして予測モデルを学習し、X_trainに対する予測精度を確認してみましょう。"
   ]
  },
  {
   "cell_type": "code",
   "execution_count": null,
   "metadata": {},
   "outputs": [],
   "source": [
    "X_train = data.drop(['y'], axis=1)\n",
    "y_train = data['y']"
   ]
  },
  {
   "cell_type": "code",
   "execution_count": null,
   "metadata": {},
   "outputs": [],
   "source": []
  },
  {
   "cell_type": "markdown",
   "metadata": {},
   "source": [
    "### 決定木の予測モデル作成"
   ]
  },
  {
   "cell_type": "code",
   "execution_count": null,
   "metadata": {},
   "outputs": [],
   "source": [
    "# モデルの定義\n",
    "tree = DecisionTreeClassifier()     # この時点でtreeは未学習\n",
    "# 学習\n",
    "tree.fit(X_train, y_train)          # fit関数でtreeが学習データをもとに分岐を作り学習を行う\n",
    "# 予測\n",
    "y_pred_tree = tree.predict(X_train) # 学習済みのtreeを使って予測を行う"
   ]
  },
  {
   "cell_type": "code",
   "execution_count": null,
   "metadata": {},
   "outputs": [],
   "source": []
  },
  {
   "cell_type": "markdown",
   "metadata": {},
   "source": [
    "## 3-2. 精度評価\n",
    "* 予測モデルが学習できたので、精度を評価してみましょう。\n",
    "* 精度評価の指標はいろいろとありますが、今回は正解率とAUCで評価してみます。"
   ]
  },
  {
   "cell_type": "markdown",
   "metadata": {},
   "source": [
    "### 正解率での評価（全データ数のうち、予測が当たったデータの割合）"
   ]
  },
  {
   "cell_type": "code",
   "execution_count": null,
   "metadata": {},
   "outputs": [],
   "source": [
    "ac_tree = accuracy_score(y_train, y_pred_tree)\n",
    "\n",
    "print(\"決定木の正解率：\", ac_tree)"
   ]
  },
  {
   "cell_type": "markdown",
   "metadata": {},
   "source": [
    "### 混同行列の表示"
   ]
  },
  {
   "cell_type": "code",
   "execution_count": null,
   "metadata": {},
   "outputs": [],
   "source": [
    "cm_tree = confusion_matrix(y_train, y_pred_tree)\n",
    "\n",
    "print(\"---決定木の混同行列---\")\n",
    "print(cm_tree)"
   ]
  },
  {
   "cell_type": "markdown",
   "metadata": {},
   "source": [
    "### ROCカーブの表示"
   ]
  },
  {
   "cell_type": "code",
   "execution_count": null,
   "metadata": {},
   "outputs": [],
   "source": [
    "y_pred_tree = tree.predict_proba(X_train) # 0,1ではなく予測確率を出力\n",
    "\n",
    "fpr, tpr, thresholds = roc_curve(y_train, y_pred_tree[:,1])\n",
    "plt.figure(figsize=(5,5))\n",
    "plt.plot(fpr, tpr)\n",
    "plt.plot([0,1],[0,1],color=\"gray\",linestyle=\"dotted\")\n",
    "plt.xlabel(\"False Positive Rate\")\n",
    "plt.ylabel(\"True Positive Rate\")"
   ]
  },
  {
   "cell_type": "markdown",
   "metadata": {},
   "source": [
    "### ROC AUCでの評価"
   ]
  },
  {
   "cell_type": "code",
   "execution_count": null,
   "metadata": {},
   "outputs": [],
   "source": [
    "auc_tree = roc_auc_score(y_train, y_pred_tree[:,1])\n",
    "print(\"決定木のAUC：\", auc_tree)"
   ]
  },
  {
   "cell_type": "markdown",
   "metadata": {},
   "source": [
    "* AUCの値はビジネスケースやデータの形式にかかわらず同じ尺度で比較できるのがメリットです\n",
    "    * 感覚論ですが一般的に0.7以上ならある程度予測ができており、0.9以上ならかなり精度の高い予測ができているといえます。"
   ]
  },
  {
   "cell_type": "code",
   "execution_count": null,
   "metadata": {},
   "outputs": [],
   "source": []
  },
  {
   "cell_type": "code",
   "execution_count": null,
   "metadata": {},
   "outputs": [],
   "source": []
  },
  {
   "cell_type": "code",
   "execution_count": null,
   "metadata": {},
   "outputs": [],
   "source": []
  },
  {
   "cell_type": "code",
   "execution_count": null,
   "metadata": {},
   "outputs": [],
   "source": []
  }
 ],
 "metadata": {
  "kernelspec": {
   "display_name": "Python 3",
   "language": "python",
   "name": "python3"
  },
  "language_info": {
   "codemirror_mode": {
    "name": "ipython",
    "version": 3
   },
   "file_extension": ".py",
   "mimetype": "text/x-python",
   "name": "python",
   "nbconvert_exporter": "python",
   "pygments_lexer": "ipython3",
   "version": "3.8.3"
  }
 },
 "nbformat": 4,
 "nbformat_minor": 2
}
