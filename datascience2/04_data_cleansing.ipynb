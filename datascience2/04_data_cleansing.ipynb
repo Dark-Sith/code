{
 "cells": [
  {
   "cell_type": "markdown",
   "metadata": {},
   "source": [
    "# 第4回：クレンジング・特徴量作成\n",
    "* 今回は、機械学習の活用に向けてのデータクレンジング・特徴量作成を行います。\n",
    "* クレンジング\n",
    "    * リーク情報であることが判明したdurationを削除します\n",
    "    * month（月）が英字表記のため数値に変換します\n",
    "    * データの前から順番に2008,2009,2010年のデータとなっていますが、年を表すyear列がないため追加します。\n",
    "* scikit-learn用の数値変換\n",
    "    * 機械学習のアルゴリズムを適用するためには、文字列形式のカテゴリデータやNaN形式を数値に変換する必要があります。"
   ]
  },
  {
   "cell_type": "markdown",
   "metadata": {},
   "source": [
    "# 1. データ読み込み"
   ]
  },
  {
   "cell_type": "markdown",
   "metadata": {},
   "source": [
    "* 前回同様に、実行したいセルを選択して「Shift」+「Enter」でプログラムを実行できます。"
   ]
  },
  {
   "cell_type": "code",
   "execution_count": null,
   "metadata": {},
   "outputs": [],
   "source": [
    "# ライブラリ（様々な機能を簡単に使えるもの）のインポート\n",
    "# このセルは、実行してもセルの下になにも表示されません\n",
    "import pandas as pd             # 表形式のデータ操作ライブラリ\n",
    "import matplotlib.pyplot as plt # グラフ描画ライブラリ\n",
    "import seaborn as sns           # グラフ描画ライブラリ"
   ]
  },
  {
   "cell_type": "code",
   "execution_count": null,
   "metadata": {},
   "outputs": [],
   "source": [
    "data = pd.read_csv(\"bank-full.csv\")\n",
    "data.head()"
   ]
  },
  {
   "cell_type": "markdown",
   "metadata": {},
   "source": [
    "# 2. クレンジング\n",
    "## 2.1. リーク情報の削除\n",
    "* 前回リーク情報であることが分かったduration（通話時間）を削除しておきます"
   ]
  },
  {
   "cell_type": "code",
   "execution_count": null,
   "metadata": {},
   "outputs": [],
   "source": [
    "data = data.drop('duration', axis=1) # dropで'duration'列を削除"
   ]
  },
  {
   "cell_type": "code",
   "execution_count": null,
   "metadata": {
    "scrolled": true
   },
   "outputs": [],
   "source": [
    "data.head() # データを表示し、duration列が削除されていることを確認"
   ]
  },
  {
   "cell_type": "code",
   "execution_count": null,
   "metadata": {},
   "outputs": [],
   "source": []
  },
  {
   "cell_type": "markdown",
   "metadata": {},
   "source": [
    "## 2-2. 月を数値に変換\n",
    "* month列は\"jan\", \"feb\"のように文字データとなっていますが、これも数値化しましょう。\n",
    "* \"jan\"が1、\"feb\"が2、... となるように変換します。"
   ]
  },
  {
   "cell_type": "code",
   "execution_count": null,
   "metadata": {},
   "outputs": [],
   "source": [
    "# 月データを文字から数値に変換\n",
    "data['month'] = data['month'].map( {'jan': 1, 'feb': 2, 'mar': 3, 'apr': 4, 'may': 5, 'jun': 6, \n",
    "                                'jul': 7, 'aug': 8, 'sep': 9, 'oct': 10, 'nov': 11, 'dec': 12} ).astype(int)"
   ]
  },
  {
   "cell_type": "code",
   "execution_count": null,
   "metadata": {},
   "outputs": [],
   "source": [
    "data.head() # 変換後のデータを表示し、month列が数値に変換されたことを確認"
   ]
  },
  {
   "cell_type": "code",
   "execution_count": null,
   "metadata": {},
   "outputs": [],
   "source": [
    "# 各月のデータ件数を表示\n",
    "data['month'].value_counts()"
   ]
  },
  {
   "cell_type": "markdown",
   "metadata": {},
   "source": [
    "* もともとmonthの先頭5行は\"may\"でしたが、正しく5に変換できました。"
   ]
  },
  {
   "cell_type": "markdown",
   "metadata": {},
   "source": [
    "## 2.3. 年を表す列を追加\n",
    "* 今回のデータの説明文を読むと、\"bank-full.csv with all examples, ordered by date (from May 2008 to November 2010)\" と記載があるので、2008年5月から2010年11月までのデータが順番に並んでいそうです。\n",
    "* 少しトリッキーですが、横軸にデータの行番号、縦軸にmonthをとる折れ線グラフで可視化して実際に様子を確認します。"
   ]
  },
  {
   "cell_type": "code",
   "execution_count": null,
   "metadata": {},
   "outputs": [],
   "source": [
    "sns.set() # グラフのデザインをSeabornライブラリのデフォルトスタイルに変更\n",
    "sns.set_context('talk') # グラフの字の大きさを調整\n",
    "plt.figure(figsize=(20, 8))\n",
    "sns.lineplot(x=range(data.shape[0]), y='month', data=data) #lineplotで折れ線グラフを描画"
   ]
  },
  {
   "cell_type": "markdown",
   "metadata": {},
   "source": [
    "* グラフが規則的に階段状になっていることから、データが時系列的に（年月に沿って順番に）並んでいることがわかります。\n",
    "    * 2008年のデータが一番多く、2009年、2010年とだんだんデータが減っていることがわかります。\n",
    "* 具体的に何行目までが2008年なのか、何行目から何行目までが2009年、何行目以降が2010年なのかを確認しましょう。\n",
    "* 2008年と2009年の境目はおよそ20000行目～30000行目の間に存在し、2009年と2010年の境目は40000行目～50000行目の間に存在しそうです。そこで、それぞれの範囲でデータを抜き出してから月日を小さい順番に並べて、月日がもっとも小さい日（12月と1月の境目）の行数を確認しましょう。"
   ]
  },
  {
   "cell_type": "code",
   "execution_count": null,
   "metadata": {},
   "outputs": [],
   "source": [
    "# 2008年と2009年の境目確認\n",
    "data.loc[20000:30000,:].sort_values(['month', 'day']).head()"
   ]
  },
  {
   "cell_type": "markdown",
   "metadata": {},
   "source": [
    "* 20000行目から3000行目で月日の数値が一番小さいデータは27729行目であることから、27728行目は12月データ（つまり2008年12月のデータ）で、27729行目以降が2009年1月データであることがわかります。"
   ]
  },
  {
   "cell_type": "code",
   "execution_count": null,
   "metadata": {},
   "outputs": [],
   "source": [
    "# 2008年と2009年の境目確認\n",
    "data.loc[40000:50000,:].sort_values(['month', 'day']).sort_index().head()"
   ]
  },
  {
   "cell_type": "markdown",
   "metadata": {},
   "source": [
    "* データの27728行目までが2008年、27729行目から42590行目までが2009年、42591行目以降が2010年であることがわかります。\n",
    "* 確認した行数をもとに実際にデータに \"year\" 列を追加してみましょう。"
   ]
  },
  {
   "cell_type": "code",
   "execution_count": null,
   "metadata": {},
   "outputs": [],
   "source": [
    "# 'year' 列を追加\n",
    "data.loc[0:27728, 'year']=2008\n",
    "data.loc[27729:42590, 'year']=2009\n",
    "data.loc[42591:, 'year']=2010\n",
    "\n",
    "data['year'] = data['year'].astype(int) # yearは整数型に変換"
   ]
  },
  {
   "cell_type": "markdown",
   "metadata": {},
   "source": [
    "#### year列が追加できたことを確認\n",
    "* データを表示し、year列が追加されたこと、12月から1月になる境目でyear列の数値が変わることを確認します。"
   ]
  },
  {
   "cell_type": "code",
   "execution_count": null,
   "metadata": {},
   "outputs": [],
   "source": [
    "data.head()"
   ]
  },
  {
   "cell_type": "code",
   "execution_count": null,
   "metadata": {},
   "outputs": [],
   "source": [
    "# 2008年と2009年の境目\n",
    "data.loc[27727:27730, :]"
   ]
  },
  {
   "cell_type": "code",
   "execution_count": null,
   "metadata": {},
   "outputs": [],
   "source": [
    "# 2009年と2010年の境目\n",
    "data.loc[42589:42592, :]"
   ]
  },
  {
   "cell_type": "markdown",
   "metadata": {},
   "source": [
    "* 無事にyear列を追加できました。"
   ]
  },
  {
   "cell_type": "markdown",
   "metadata": {},
   "source": [
    "# 3. 変換したデータをCSVファイルで保存\n",
    "* 以上の処理によりすべてのデータを数値化できたので、無事に機械学習を実行できる形になりました。\n",
    "* 何度も同じ処理をしないで済むように、変換後のデータをCSVファイルで保存してみましょう。\n",
    "* to_csv() 機能を使うと簡単にCSVファイルで保存できます。\n",
    "* 今回は、\"data_clensing.csv\" という名前で保存してみます。"
   ]
  },
  {
   "cell_type": "code",
   "execution_count": null,
   "metadata": {},
   "outputs": [],
   "source": [
    "data.to_csv(\"data_clensing.csv\", index=False) # to_csv() でデータをCSVファイルとして出力"
   ]
  },
  {
   "cell_type": "markdown",
   "metadata": {},
   "source": [
    "* みなさんのフォルダに、\"data_clensing.csv\"というファイルができたことを確認してみて下さい。"
   ]
  },
  {
   "cell_type": "code",
   "execution_count": null,
   "metadata": {},
   "outputs": [],
   "source": []
  }
 ],
 "metadata": {
  "kernelspec": {
   "display_name": "Python 3",
   "language": "python",
   "name": "python3"
  },
  "language_info": {
   "codemirror_mode": {
    "name": "ipython",
    "version": 3
   },
   "file_extension": ".py",
   "mimetype": "text/x-python",
   "name": "python",
   "nbconvert_exporter": "python",
   "pygments_lexer": "ipython3",
   "version": "3.8.3"
  }
 },
 "nbformat": 4,
 "nbformat_minor": 2
}
