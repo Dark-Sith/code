{
 "cells": [
  {
   "cell_type": "markdown",
   "metadata": {},
   "source": [
    "# 第7回：予測精度評価・モデル理解\n",
    "* 前回はデータ準備（数値化）、予測モデル作成、精度確認を行いました。\n",
    "* 精度がほぼ100%、AUCもほぼ1ととても良い指標値となりましたが、この値はどのくらい信用できるのでしょうか？\n",
    "* 実は、機械学習では**学習に使用したデータ（学習用データ）に対して当てはまりが良い**ものの、**学習に使用していない新たなデータに対しては当てはまりが悪くなる**ことが多くあります。\n",
    "* 予測モデル作成の目的は**新たなデータに対してうまく予測すること**なので、正しく予測精度を見積もるためには、**学習に使用していないデータに対する予測精度**を確認することが重要です。\n",
    "* そこで今回は、予測モデルを作成する前に**データを学習用データと精度検証用データに分割**しておき、**精度検証用データに対する予測精度**を図ってみましょう。"
   ]
  },
  {
   "cell_type": "markdown",
   "metadata": {},
   "source": [
    "# 1. データ読み込み\n",
    "* まずはデータを読み込みましょう。\n",
    "* 今回は前回演習で数値変換したデータ（data_ml.csv）を読み込みます。"
   ]
  },
  {
   "cell_type": "code",
   "execution_count": null,
   "metadata": {},
   "outputs": [],
   "source": [
    "import pandas as pd             # 表形式のデータ操作ライブラリ\n",
    "import matplotlib.pyplot as plt # グラフ描画ライブラリ\n",
    "import seaborn as sns           # グラフ描画ライブラリ\n",
    "\n",
    "from sklearn.tree import DecisionTreeClassifier      # 決定木による分類のためのライブラリ\n",
    "from sklearn.ensemble import RandomForestClassifier  # ランダムフォレストによる分類のためのライブラリ\n",
    "\n",
    "from sklearn.metrics import roc_auc_score     # AUC値を算出するライブラリ\n",
    "from sklearn.metrics import roc_curve         # ROC曲線を描画するためのライブラリ\n",
    "from sklearn.metrics import accuracy_score    # 正解率を算出するライブラリ\n",
    "from sklearn.metrics import confusion_matrix  # 混同行列を作成するライブラリ\n",
    "\n",
    "from sklearn.model_selection import train_test_split # データを学習用と検証用に分割するライブラリ\n",
    "from sklearn.model_selection import GridSearchCV     # グリッドサーチによるパラメータチューニングを実施するライブラリ\n",
    "\n",
    "random_state = 1 # 乱数固定\n",
    "sns.set() "
   ]
  },
  {
   "cell_type": "code",
   "execution_count": null,
   "metadata": {},
   "outputs": [],
   "source": [
    "# 警告（warning）を表示させない\n",
    "import warnings\n",
    "warnings.filterwarnings('ignore')"
   ]
  },
  {
   "cell_type": "code",
   "execution_count": null,
   "metadata": {},
   "outputs": [],
   "source": [
    "# 前回の演習で作成済みのデータを読み込みます\n",
    "data = pd.read_csv('data_ml.csv')"
   ]
  },
  {
   "cell_type": "code",
   "execution_count": null,
   "metadata": {},
   "outputs": [],
   "source": [
    "print('データのサイズ：', data.shape) # データサイズ確認\n",
    "display(data.head())                  # データが正しく読み込めたことを確認"
   ]
  },
  {
   "cell_type": "markdown",
   "metadata": {},
   "source": [
    "# 2. データ準備\n",
    "* 機械学習で予測モデルを作成するためのデータ準備を行います。"
   ]
  },
  {
   "cell_type": "markdown",
   "metadata": {},
   "source": [
    "## 2-1. データを学習用データと検証用データに分割\n",
    "* あらかじめデータを学習用と検証用に分けておき、学習用データでモデルを学習、検証用データで精度検証することで、未知のデータに対する性能を評価できます。\n",
    "\n",
    "### 本演習での実施事項\n",
    "* 本演習ではデータをランダムに8:2に分割しして、学習用データ、検証用データとして使用します（表を**行方向**に分割）\n",
    "* sklearnで学習する際にはデータを説明変数と目的変数にも分割する必要があります（表を**列方向**に分割）"
   ]
  },
  {
   "cell_type": "code",
   "execution_count": null,
   "metadata": {},
   "outputs": [],
   "source": [
    "X = data.drop(['y'],axis=1)\n",
    "y = data.y\n",
    "\n",
    "X_train, X_test, y_train, y_test = train_test_split(X ,y, test_size=0.2, random_state=random_state)  # 8:2に分割"
   ]
  },
  {
   "cell_type": "markdown",
   "metadata": {},
   "source": [
    "#### 表示して確認"
   ]
  },
  {
   "cell_type": "code",
   "execution_count": null,
   "metadata": {},
   "outputs": [],
   "source": [
    "print(\"-----X_train-----\")\n",
    "display(X_train.head())\n",
    "print(\"-----y_train-----\")\n",
    "display(y_train.head())\n",
    "print(\"-----X_test-----\")\n",
    "display(X_test.head())\n",
    "print(\"-----y_test-----\")\n",
    "display(y_train.head())"
   ]
  },
  {
   "cell_type": "markdown",
   "metadata": {},
   "source": [
    "#### データサイズも確認"
   ]
  },
  {
   "cell_type": "code",
   "execution_count": null,
   "metadata": {},
   "outputs": [],
   "source": [
    "print('学習用データ：', X_train.shape)\n",
    "print('検証用データ：', X_test.shape)"
   ]
  },
  {
   "cell_type": "markdown",
   "metadata": {},
   "source": [
    "* 説明変数と目的変数に正しく分割できました。\n",
    "* 学習用データは36168件、検証用データは9043件です。"
   ]
  },
  {
   "cell_type": "code",
   "execution_count": null,
   "metadata": {},
   "outputs": [],
   "source": [
    "X = data.drop(['y'],axis=1)\n",
    "y = data.y\n",
    "\n",
    "X_train, X_test, y_train, y_test = train_test_split(X,y,test_size=0.2, random_state=random_state) "
   ]
  },
  {
   "cell_type": "markdown",
   "metadata": {},
   "source": [
    "# 3. 予測モデルの作成\n",
    "* データの準備が終わったので、いよいよ予測モデルを作っていきましょう。\n",
    "* 今回は決定木とランダムフォレストで予測モデルを作成します。\n",
    "* 前回との変更部分は予測精度の評価部分で、予測モデルに使用していないX_testとy_testで評価します。"
   ]
  },
  {
   "cell_type": "markdown",
   "metadata": {},
   "source": [
    "## 3-1. 学習・予測"
   ]
  },
  {
   "cell_type": "markdown",
   "metadata": {},
   "source": [
    "### 決定木"
   ]
  },
  {
   "cell_type": "code",
   "execution_count": null,
   "metadata": {},
   "outputs": [],
   "source": [
    "# モデルの定義\n",
    "tree = DecisionTreeClassifier(random_state = random_state)     # この時点でtreeは未学習（常に同じ結果が出るようにrandom_stateで乱数固定）\n",
    "# 学習\n",
    "tree.fit(X_train, y_train)          # fit関数でtreeが学習データをもとに分岐を作り学習を行う\n",
    "# 予測\n",
    "y_pred_tree = tree.predict(X_test) # 学習済みのtreeを使ってX_testに対する予測を行う"
   ]
  },
  {
   "cell_type": "markdown",
   "metadata": {},
   "source": [
    "### ランダムフォレスト"
   ]
  },
  {
   "cell_type": "code",
   "execution_count": null,
   "metadata": {},
   "outputs": [],
   "source": [
    "# モデルの定義\n",
    "forest = RandomForestClassifier(random_state = random_state)     # この時点では未学習（常に同じ結果が出るようにrandom_stateで乱数固定）\n",
    "# 学習\n",
    "forest.fit(X_train, y_train)          # fit関数でforestが学習データをもとに分岐を作り学習を行う\n",
    "# 予測\n",
    "y_pred_forest = forest.predict(X_test) # 学習済みのforestを使ってX_testに対する予測を行う"
   ]
  },
  {
   "cell_type": "code",
   "execution_count": null,
   "metadata": {},
   "outputs": [],
   "source": []
  },
  {
   "cell_type": "markdown",
   "metadata": {},
   "source": [
    "## 3-2. 精度評価\n",
    "* 予測モデルが学習できたので、予測精度を評価してみましょう。\n",
    "* 学習に使用していない検証用データに対してどのくらい予測が当たるのかを確認します。\n",
    "* 前回の演習と同様に、今回も正解率とAUCで評価してみます。"
   ]
  },
  {
   "cell_type": "markdown",
   "metadata": {},
   "source": [
    "### 正解率での評価"
   ]
  },
  {
   "cell_type": "code",
   "execution_count": null,
   "metadata": {},
   "outputs": [],
   "source": [
    "ac_tree = accuracy_score(y_test, y_pred_tree)\n",
    "ac_forest = accuracy_score(y_test, y_pred_forest)\n",
    "\n",
    "print(\"決定木の正解率：{:.3f}\".format(ac_tree))\n",
    "print(\"ランダムフォレストの正解率：{:.3f}\".format(ac_forest))"
   ]
  },
  {
   "cell_type": "markdown",
   "metadata": {},
   "source": [
    "### 混同行列の表示"
   ]
  },
  {
   "cell_type": "code",
   "execution_count": null,
   "metadata": {},
   "outputs": [],
   "source": [
    "cm_tree = confusion_matrix(y_test, y_pred_tree)\n",
    "cm_forest = confusion_matrix(y_test, y_pred_forest)\n",
    "\n",
    "print(\"---決定木の混同行列---\")\n",
    "print(cm_tree)\n",
    "print(\"---ランダムフォレストの混同行列---\")\n",
    "print(cm_forest)"
   ]
  },
  {
   "cell_type": "markdown",
   "metadata": {},
   "source": [
    "### ROCカーブの表示"
   ]
  },
  {
   "cell_type": "code",
   "execution_count": null,
   "metadata": {},
   "outputs": [],
   "source": [
    "y_pred_tree = tree.predict_proba(X_test) # 0,1ではなく予測確率を出力\n",
    "\n",
    "fpr, tpr, thresholds = roc_curve(y_test, y_pred_tree[:,1])\n",
    "plt.figure(figsize=(5,5))\n",
    "plt.rcParams[\"font.size\"] = 18\n",
    "plt.plot(fpr, tpr)\n",
    "plt.plot([0,1],[0,1],color=\"gray\",linestyle=\"dotted\")\n",
    "plt.xlabel(\"False Positive Rate\")\n",
    "plt.ylabel(\"True Positive Rate\")"
   ]
  },
  {
   "cell_type": "code",
   "execution_count": null,
   "metadata": {},
   "outputs": [],
   "source": [
    "y_pred_forest = forest.predict_proba(X_test) # 0,1ではなく予測確率を出力\n",
    "\n",
    "fpr, tpr, thresholds = roc_curve(y_test, y_pred_forest[:,1])\n",
    "plt.rcParams[\"font.size\"] = 18\n",
    "plt.figure(figsize=(5,5))\n",
    "plt.plot(fpr, tpr)\n",
    "plt.plot([0,1],[0,1],color=\"gray\",linestyle=\"dotted\")\n",
    "plt.xlabel(\"False Positive Rate\")\n",
    "plt.ylabel(\"True Positive Rate\")"
   ]
  },
  {
   "cell_type": "markdown",
   "metadata": {},
   "source": [
    "### ROC AUCでの評価"
   ]
  },
  {
   "cell_type": "code",
   "execution_count": null,
   "metadata": {},
   "outputs": [],
   "source": [
    "auc_tree = roc_auc_score(y_test, y_pred_tree[:,1])\n",
    "auc_forest =  roc_auc_score(y_test, y_pred_forest[:,1])\n",
    "print(\"決定木のAUC：{:.3f}\".format(auc_tree))\n",
    "print(\"ランダムフォレストのAUC：{:.3f}\".format(auc_forest))"
   ]
  },
  {
   "cell_type": "markdown",
   "metadata": {},
   "source": [
    "* AUCの値はビジネスケースやデータの形式にかかわらず同じ尺度で比較できるのがメリットです\n",
    "    * 感覚論ですが一般的に0.7以上ならある程度予測ができており、0.9以上ならかなり精度の高い予測ができているといえます。\n",
    "* ランダムフォレストのほうが良い予測ができているようです。"
   ]
  },
  {
   "cell_type": "code",
   "execution_count": null,
   "metadata": {},
   "outputs": [],
   "source": []
  },
  {
   "cell_type": "markdown",
   "metadata": {},
   "source": [
    "# 4. 作成したモデルの理解\n",
    "* 予測精度の確認ができたところで、実際にどのようなモデルが作成されたのか確認してみましょう。\n",
    "* 決定木やランダムフォレストでは、どの説明変数（特徴量）が予測に効果的なのかを確認できます。"
   ]
  },
  {
   "cell_type": "markdown",
   "metadata": {},
   "source": [
    "## 4-1. ランダムフォレストの特徴量重要度（上位20個）"
   ]
  },
  {
   "cell_type": "code",
   "execution_count": null,
   "metadata": {},
   "outputs": [],
   "source": [
    "feature_importances = pd.DataFrame(forest.feature_importances_,\n",
    "                              index = X_test.columns,\n",
    "                              columns=[\"importance\"]).sort_values(\"importance\",ascending=False)\n",
    "\n",
    "feature_importances.head(20).plot.bar(figsize=(18,6), fontsize=24)"
   ]
  },
  {
   "cell_type": "markdown",
   "metadata": {},
   "source": [
    "* balanceやageなどが予測に効いていることがわかります。"
   ]
  },
  {
   "cell_type": "code",
   "execution_count": null,
   "metadata": {},
   "outputs": [],
   "source": [
    "# 各変数の特徴量重要度を表形式で表示\n",
    "display(feature_importances)"
   ]
  },
  {
   "cell_type": "code",
   "execution_count": null,
   "metadata": {},
   "outputs": [],
   "source": []
  }
 ],
 "metadata": {
  "kernelspec": {
   "display_name": "Python 3",
   "language": "python",
   "name": "python3"
  },
  "language_info": {
   "codemirror_mode": {
    "name": "ipython",
    "version": 3
   },
   "file_extension": ".py",
   "mimetype": "text/x-python",
   "name": "python",
   "nbconvert_exporter": "python",
   "pygments_lexer": "ipython3",
   "version": "3.8.3"
  }
 },
 "nbformat": 4,
 "nbformat_minor": 2
}
